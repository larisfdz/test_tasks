{
 "cells": [
  {
   "cell_type": "code",
   "execution_count": 1,
   "metadata": {},
   "outputs": [],
   "source": [
    "import pandas as pd"
   ]
  },
  {
   "cell_type": "markdown",
   "metadata": {},
   "source": [
    "**Загрузка и преодобработка данных**"
   ]
  },
  {
   "cell_type": "code",
   "execution_count": 2,
   "metadata": {},
   "outputs": [
    {
     "name": "stdout",
     "output_type": "stream",
     "text": [
      "<class 'pandas.core.frame.DataFrame'>\n",
      "RangeIndex: 380 entries, 0 to 379\n",
      "Data columns (total 4 columns):\n",
      "                  id                      380 non-null object\n",
      " event_id                                 378 non-null float64\n",
      " subject                                  378 non-null object\n",
      "       scheduled_time                     378 non-null object\n",
      "dtypes: float64(1), object(3)\n",
      "memory usage: 12.0+ KB\n"
     ]
    },
    {
     "data": {
      "text/html": [
       "<div>\n",
       "<style scoped>\n",
       "    .dataframe tbody tr th:only-of-type {\n",
       "        vertical-align: middle;\n",
       "    }\n",
       "\n",
       "    .dataframe tbody tr th {\n",
       "        vertical-align: top;\n",
       "    }\n",
       "\n",
       "    .dataframe thead th {\n",
       "        text-align: right;\n",
       "    }\n",
       "</style>\n",
       "<table border=\"1\" class=\"dataframe\">\n",
       "  <thead>\n",
       "    <tr style=\"text-align: right;\">\n",
       "      <th></th>\n",
       "      <th>id</th>\n",
       "      <th>event_id</th>\n",
       "      <th>subject</th>\n",
       "      <th>scheduled_time</th>\n",
       "    </tr>\n",
       "  </thead>\n",
       "  <tbody>\n",
       "    <tr>\n",
       "      <th>0</th>\n",
       "      <td>--------------------------------------+-------...</td>\n",
       "      <td>NaN</td>\n",
       "      <td>NaN</td>\n",
       "      <td>NaN</td>\n",
       "    </tr>\n",
       "    <tr>\n",
       "      <th>1</th>\n",
       "      <td>1e7bb408-cfef-4a9f-8328-351c9483a64c</td>\n",
       "      <td>38114.0</td>\n",
       "      <td>phys</td>\n",
       "      <td>2020-01-19 12:00:00</td>\n",
       "    </tr>\n",
       "    <tr>\n",
       "      <th>2</th>\n",
       "      <td>6d8e59d9-a7c8-4bb3-8ff3-99cd07acdf1a</td>\n",
       "      <td>51568.0</td>\n",
       "      <td>it</td>\n",
       "      <td>2020-01-19 13:00:00</td>\n",
       "    </tr>\n",
       "    <tr>\n",
       "      <th>3</th>\n",
       "      <td>62e1a078-33de-47c1-99d2-845b1daca56f</td>\n",
       "      <td>52790.0</td>\n",
       "      <td>hist</td>\n",
       "      <td>2020-01-19 13:00:00</td>\n",
       "    </tr>\n",
       "    <tr>\n",
       "      <th>4</th>\n",
       "      <td>00fc6685-f53a-49bb-b960-5e0042fd3852</td>\n",
       "      <td>51341.0</td>\n",
       "      <td>phys</td>\n",
       "      <td>2020-01-17 12:00:00</td>\n",
       "    </tr>\n",
       "  </tbody>\n",
       "</table>\n",
       "</div>"
      ],
      "text/plain": [
       "                                id                     event_id    subject   \\\n",
       "0  --------------------------------------+-------...         NaN        NaN   \n",
       "1              1e7bb408-cfef-4a9f-8328-351c9483a64c      38114.0   phys       \n",
       "2              6d8e59d9-a7c8-4bb3-8ff3-99cd07acdf1a      51568.0   it         \n",
       "3              62e1a078-33de-47c1-99d2-845b1daca56f      52790.0   hist       \n",
       "4              00fc6685-f53a-49bb-b960-5e0042fd3852      51341.0   phys       \n",
       "\n",
       "         scheduled_time         \n",
       "0                          NaN  \n",
       "1          2020-01-19 12:00:00  \n",
       "2          2020-01-19 13:00:00  \n",
       "3          2020-01-19 13:00:00  \n",
       "4          2020-01-17 12:00:00  "
      ]
     },
     "execution_count": 2,
     "metadata": {},
     "output_type": "execute_result"
    }
   ],
   "source": [
    "lessons = pd.read_csv('tech_quality/lessons.txt', sep='|')\n",
    "lessons.info()\n",
    "lessons.head()"
   ]
  },
  {
   "cell_type": "code",
   "execution_count": 3,
   "metadata": {},
   "outputs": [],
   "source": [
    "lessons = lessons.dropna().reset_index(drop=True)\n",
    "lessons.columns = ['lesson_id', 'event_id', 'subject', 'scheduled_time']\n",
    "lessons['event_id'] = lessons['event_id'].astype('int')\n",
    "lessons['subject'] = lessons['subject'].str.replace(' ', '')\n",
    "lessons['lesson_id'] = lessons['lesson_id'].str.replace(' ', '')\n",
    "lessons['scheduled_time'] = pd.to_datetime(lessons['scheduled_time'])"
   ]
  },
  {
   "cell_type": "code",
   "execution_count": 4,
   "metadata": {},
   "outputs": [
    {
     "name": "stdout",
     "output_type": "stream",
     "text": [
      "<class 'pandas.core.frame.DataFrame'>\n",
      "RangeIndex: 367 entries, 0 to 366\n",
      "Data columns (total 2 columns):\n",
      "              lesson_id                   367 non-null object\n",
      " tech_quality                             365 non-null object\n",
      "dtypes: object(2)\n",
      "memory usage: 5.8+ KB\n"
     ]
    },
    {
     "data": {
      "text/html": [
       "<div>\n",
       "<style scoped>\n",
       "    .dataframe tbody tr th:only-of-type {\n",
       "        vertical-align: middle;\n",
       "    }\n",
       "\n",
       "    .dataframe tbody tr th {\n",
       "        vertical-align: top;\n",
       "    }\n",
       "\n",
       "    .dataframe thead th {\n",
       "        text-align: right;\n",
       "    }\n",
       "</style>\n",
       "<table border=\"1\" class=\"dataframe\">\n",
       "  <thead>\n",
       "    <tr style=\"text-align: right;\">\n",
       "      <th></th>\n",
       "      <th>lesson_id</th>\n",
       "      <th>tech_quality</th>\n",
       "    </tr>\n",
       "  </thead>\n",
       "  <tbody>\n",
       "    <tr>\n",
       "      <th>0</th>\n",
       "      <td>--------------------------------------+-------...</td>\n",
       "      <td>NaN</td>\n",
       "    </tr>\n",
       "    <tr>\n",
       "      <th>1</th>\n",
       "      <td>6d8e59d9-a7c8-4bb3-8ff3-99cd07acdf1a</td>\n",
       "      <td>5</td>\n",
       "    </tr>\n",
       "    <tr>\n",
       "      <th>2</th>\n",
       "      <td>62e1a078-33de-47c1-99d2-845b1daca56f</td>\n",
       "      <td>5</td>\n",
       "    </tr>\n",
       "    <tr>\n",
       "      <th>3</th>\n",
       "      <td>62e1a078-33de-47c1-99d2-845b1daca56f</td>\n",
       "      <td>5</td>\n",
       "    </tr>\n",
       "    <tr>\n",
       "      <th>4</th>\n",
       "      <td>00fc6685-f53a-49bb-b960-5e0042fd3852</td>\n",
       "      <td>5</td>\n",
       "    </tr>\n",
       "  </tbody>\n",
       "</table>\n",
       "</div>"
      ],
      "text/plain": [
       "                            lesson_id                 tech_quality \n",
       "0  --------------------------------------+-------...            NaN\n",
       "1              6d8e59d9-a7c8-4bb3-8ff3-99cd07acdf1a               5\n",
       "2              62e1a078-33de-47c1-99d2-845b1daca56f               5\n",
       "3              62e1a078-33de-47c1-99d2-845b1daca56f               5\n",
       "4              00fc6685-f53a-49bb-b960-5e0042fd3852               5"
      ]
     },
     "execution_count": 4,
     "metadata": {},
     "output_type": "execute_result"
    }
   ],
   "source": [
    "quality = pd.read_csv('tech_quality/quality.txt', sep='|')\n",
    "quality.info()\n",
    "quality.head()"
   ]
  },
  {
   "cell_type": "code",
   "execution_count": 5,
   "metadata": {},
   "outputs": [
    {
     "data": {
      "text/html": [
       "<div>\n",
       "<style scoped>\n",
       "    .dataframe tbody tr th:only-of-type {\n",
       "        vertical-align: middle;\n",
       "    }\n",
       "\n",
       "    .dataframe tbody tr th {\n",
       "        vertical-align: top;\n",
       "    }\n",
       "\n",
       "    .dataframe thead th {\n",
       "        text-align: right;\n",
       "    }\n",
       "</style>\n",
       "<table border=\"1\" class=\"dataframe\">\n",
       "  <thead>\n",
       "    <tr style=\"text-align: right;\">\n",
       "      <th></th>\n",
       "      <th>lesson_id</th>\n",
       "      <th>tech_quality</th>\n",
       "    </tr>\n",
       "  </thead>\n",
       "  <tbody>\n",
       "    <tr>\n",
       "      <th>0</th>\n",
       "      <td>6d8e59d9-a7c8-4bb3-8ff3-99cd07acdf1a</td>\n",
       "      <td>5</td>\n",
       "    </tr>\n",
       "    <tr>\n",
       "      <th>1</th>\n",
       "      <td>62e1a078-33de-47c1-99d2-845b1daca56f</td>\n",
       "      <td>5</td>\n",
       "    </tr>\n",
       "    <tr>\n",
       "      <th>2</th>\n",
       "      <td>62e1a078-33de-47c1-99d2-845b1daca56f</td>\n",
       "      <td>5</td>\n",
       "    </tr>\n",
       "    <tr>\n",
       "      <th>3</th>\n",
       "      <td>00fc6685-f53a-49bb-b960-5e0042fd3852</td>\n",
       "      <td>5</td>\n",
       "    </tr>\n",
       "    <tr>\n",
       "      <th>4</th>\n",
       "      <td>00fc6685-f53a-49bb-b960-5e0042fd3852</td>\n",
       "      <td>5</td>\n",
       "    </tr>\n",
       "  </tbody>\n",
       "</table>\n",
       "</div>"
      ],
      "text/plain": [
       "                              lesson_id  tech_quality\n",
       "0  6d8e59d9-a7c8-4bb3-8ff3-99cd07acdf1a             5\n",
       "1  62e1a078-33de-47c1-99d2-845b1daca56f             5\n",
       "2  62e1a078-33de-47c1-99d2-845b1daca56f             5\n",
       "3  00fc6685-f53a-49bb-b960-5e0042fd3852             5\n",
       "4  00fc6685-f53a-49bb-b960-5e0042fd3852             5"
      ]
     },
     "execution_count": 5,
     "metadata": {},
     "output_type": "execute_result"
    }
   ],
   "source": [
    "quality.columns = ['lesson_id', 'tech_quality']\n",
    "quality['tech_quality'].unique()\n",
    "quality['lesson_id'] = quality['lesson_id'].str.replace(' ', '')\n",
    "quality['tech_quality'] = quality['tech_quality'].str.replace(' ', '')\n",
    "quality['tech_quality'] = pd.to_numeric(quality['tech_quality'], errors = 'coerce')\n",
    "quality = quality.dropna().reset_index(drop=True)\n",
    "quality['tech_quality'] = quality['tech_quality'].astype('int')\n",
    "quality.head()"
   ]
  },
  {
   "cell_type": "code",
   "execution_count": 6,
   "metadata": {},
   "outputs": [
    {
     "name": "stdout",
     "output_type": "stream",
     "text": [
      "<class 'pandas.core.frame.DataFrame'>\n",
      "RangeIndex: 745 entries, 0 to 744\n",
      "Data columns (total 2 columns):\n",
      " event_id                                 745 non-null object\n",
      "               user_id                    743 non-null object\n",
      "dtypes: object(2)\n",
      "memory usage: 11.7+ KB\n"
     ]
    },
    {
     "data": {
      "text/html": [
       "<div>\n",
       "<style scoped>\n",
       "    .dataframe tbody tr th:only-of-type {\n",
       "        vertical-align: middle;\n",
       "    }\n",
       "\n",
       "    .dataframe tbody tr th {\n",
       "        vertical-align: top;\n",
       "    }\n",
       "\n",
       "    .dataframe thead th {\n",
       "        text-align: right;\n",
       "    }\n",
       "</style>\n",
       "<table border=\"1\" class=\"dataframe\">\n",
       "  <thead>\n",
       "    <tr style=\"text-align: right;\">\n",
       "      <th></th>\n",
       "      <th>event_id</th>\n",
       "      <th>user_id</th>\n",
       "    </tr>\n",
       "  </thead>\n",
       "  <tbody>\n",
       "    <tr>\n",
       "      <th>0</th>\n",
       "      <td>----------+--------------------------------------</td>\n",
       "      <td>NaN</td>\n",
       "    </tr>\n",
       "    <tr>\n",
       "      <th>1</th>\n",
       "      <td>38114</td>\n",
       "      <td>e28351f5-4ccb-4549-8647-d43f2b15e7b8</td>\n",
       "    </tr>\n",
       "    <tr>\n",
       "      <th>2</th>\n",
       "      <td>38114</td>\n",
       "      <td>4df2832a-1d63-4453-9659-43993fc35996</td>\n",
       "    </tr>\n",
       "    <tr>\n",
       "      <th>3</th>\n",
       "      <td>51568</td>\n",
       "      <td>bb1c0bc8-1212-452b-97a0-439d4a2169e2</td>\n",
       "    </tr>\n",
       "    <tr>\n",
       "      <th>4</th>\n",
       "      <td>51568</td>\n",
       "      <td>63441abe-c4da-4275-ba26-66f7dbd65dde</td>\n",
       "    </tr>\n",
       "  </tbody>\n",
       "</table>\n",
       "</div>"
      ],
      "text/plain": [
       "                                           event_id   \\\n",
       "0  ----------+--------------------------------------   \n",
       "1                                             38114    \n",
       "2                                             38114    \n",
       "3                                             51568    \n",
       "4                                             51568    \n",
       "\n",
       "                 user_id                  \n",
       "0                                    NaN  \n",
       "1   e28351f5-4ccb-4549-8647-d43f2b15e7b8  \n",
       "2   4df2832a-1d63-4453-9659-43993fc35996  \n",
       "3   bb1c0bc8-1212-452b-97a0-439d4a2169e2  \n",
       "4   63441abe-c4da-4275-ba26-66f7dbd65dde  "
      ]
     },
     "execution_count": 6,
     "metadata": {},
     "output_type": "execute_result"
    }
   ],
   "source": [
    "participants = pd.read_csv('tech_quality/participants.txt', sep='|')\n",
    "participants.info()\n",
    "participants.head()"
   ]
  },
  {
   "cell_type": "code",
   "execution_count": 7,
   "metadata": {},
   "outputs": [
    {
     "data": {
      "text/html": [
       "<div>\n",
       "<style scoped>\n",
       "    .dataframe tbody tr th:only-of-type {\n",
       "        vertical-align: middle;\n",
       "    }\n",
       "\n",
       "    .dataframe tbody tr th {\n",
       "        vertical-align: top;\n",
       "    }\n",
       "\n",
       "    .dataframe thead th {\n",
       "        text-align: right;\n",
       "    }\n",
       "</style>\n",
       "<table border=\"1\" class=\"dataframe\">\n",
       "  <thead>\n",
       "    <tr style=\"text-align: right;\">\n",
       "      <th></th>\n",
       "      <th>event_id</th>\n",
       "      <th>user_id</th>\n",
       "    </tr>\n",
       "  </thead>\n",
       "  <tbody>\n",
       "    <tr>\n",
       "      <th>0</th>\n",
       "      <td>38114</td>\n",
       "      <td>e28351f5-4ccb-4549-8647-d43f2b15e7b8</td>\n",
       "    </tr>\n",
       "    <tr>\n",
       "      <th>1</th>\n",
       "      <td>38114</td>\n",
       "      <td>4df2832a-1d63-4453-9659-43993fc35996</td>\n",
       "    </tr>\n",
       "    <tr>\n",
       "      <th>2</th>\n",
       "      <td>51568</td>\n",
       "      <td>bb1c0bc8-1212-452b-97a0-439d4a2169e2</td>\n",
       "    </tr>\n",
       "    <tr>\n",
       "      <th>3</th>\n",
       "      <td>51568</td>\n",
       "      <td>63441abe-c4da-4275-ba26-66f7dbd65dde</td>\n",
       "    </tr>\n",
       "    <tr>\n",
       "      <th>4</th>\n",
       "      <td>52790</td>\n",
       "      <td>a1323b68-c82c-429a-8e2c-65597e648c1a</td>\n",
       "    </tr>\n",
       "  </tbody>\n",
       "</table>\n",
       "</div>"
      ],
      "text/plain": [
       "   event_id                               user_id\n",
       "0     38114  e28351f5-4ccb-4549-8647-d43f2b15e7b8\n",
       "1     38114  4df2832a-1d63-4453-9659-43993fc35996\n",
       "2     51568  bb1c0bc8-1212-452b-97a0-439d4a2169e2\n",
       "3     51568  63441abe-c4da-4275-ba26-66f7dbd65dde\n",
       "4     52790  a1323b68-c82c-429a-8e2c-65597e648c1a"
      ]
     },
     "execution_count": 7,
     "metadata": {},
     "output_type": "execute_result"
    }
   ],
   "source": [
    "participants = participants.dropna().reset_index(drop=True)\n",
    "participants.columns = ['event_id', 'user_id']\n",
    "participants['user_id'] = participants['user_id'].str.replace(' ', '')\n",
    "participants['event_id'] = participants['event_id'].astype('int')\n",
    "participants.head()"
   ]
  },
  {
   "cell_type": "code",
   "execution_count": 8,
   "metadata": {},
   "outputs": [
    {
     "name": "stdout",
     "output_type": "stream",
     "text": [
      "<class 'pandas.core.frame.DataFrame'>\n",
      "RangeIndex: 745 entries, 0 to 744\n",
      "Data columns (total 2 columns):\n",
      "                  id                      745 non-null object\n",
      " role                                     743 non-null object\n",
      "dtypes: object(2)\n",
      "memory usage: 11.7+ KB\n"
     ]
    },
    {
     "data": {
      "text/html": [
       "<div>\n",
       "<style scoped>\n",
       "    .dataframe tbody tr th:only-of-type {\n",
       "        vertical-align: middle;\n",
       "    }\n",
       "\n",
       "    .dataframe tbody tr th {\n",
       "        vertical-align: top;\n",
       "    }\n",
       "\n",
       "    .dataframe thead th {\n",
       "        text-align: right;\n",
       "    }\n",
       "</style>\n",
       "<table border=\"1\" class=\"dataframe\">\n",
       "  <thead>\n",
       "    <tr style=\"text-align: right;\">\n",
       "      <th></th>\n",
       "      <th>id</th>\n",
       "      <th>role</th>\n",
       "    </tr>\n",
       "  </thead>\n",
       "  <tbody>\n",
       "    <tr>\n",
       "      <th>740</th>\n",
       "      <td>ad7199dd-3bf6-4d6d-8ae7-448ecf90a4eb</td>\n",
       "      <td>tutor</td>\n",
       "    </tr>\n",
       "    <tr>\n",
       "      <th>741</th>\n",
       "      <td>d3364cf3-46cc-4e64-ad11-70a069f7c049</td>\n",
       "      <td>pupil</td>\n",
       "    </tr>\n",
       "    <tr>\n",
       "      <th>742</th>\n",
       "      <td>ad7199dd-3bf6-4d6d-8ae7-448ecf90a4eb</td>\n",
       "      <td>tutor</td>\n",
       "    </tr>\n",
       "    <tr>\n",
       "      <th>743</th>\n",
       "      <td>f76609c8-ba5d-4818-9b57-097debc90cab</td>\n",
       "      <td>pupil</td>\n",
       "    </tr>\n",
       "    <tr>\n",
       "      <th>744</th>\n",
       "      <td>(743 rows)</td>\n",
       "      <td>NaN</td>\n",
       "    </tr>\n",
       "  </tbody>\n",
       "</table>\n",
       "</div>"
      ],
      "text/plain": [
       "                       id                    role  \n",
       "740   ad7199dd-3bf6-4d6d-8ae7-448ecf90a4eb    tutor\n",
       "741   d3364cf3-46cc-4e64-ad11-70a069f7c049    pupil\n",
       "742   ad7199dd-3bf6-4d6d-8ae7-448ecf90a4eb    tutor\n",
       "743   f76609c8-ba5d-4818-9b57-097debc90cab    pupil\n",
       "744                              (743 rows)     NaN"
      ]
     },
     "execution_count": 8,
     "metadata": {},
     "output_type": "execute_result"
    }
   ],
   "source": [
    "users = pd.read_csv('tech_quality/users.txt', sep='|')\n",
    "users.info()\n",
    "users.tail()"
   ]
  },
  {
   "cell_type": "code",
   "execution_count": 9,
   "metadata": {},
   "outputs": [
    {
     "data": {
      "text/html": [
       "<div>\n",
       "<style scoped>\n",
       "    .dataframe tbody tr th:only-of-type {\n",
       "        vertical-align: middle;\n",
       "    }\n",
       "\n",
       "    .dataframe tbody tr th {\n",
       "        vertical-align: top;\n",
       "    }\n",
       "\n",
       "    .dataframe thead th {\n",
       "        text-align: right;\n",
       "    }\n",
       "</style>\n",
       "<table border=\"1\" class=\"dataframe\">\n",
       "  <thead>\n",
       "    <tr style=\"text-align: right;\">\n",
       "      <th></th>\n",
       "      <th>id</th>\n",
       "      <th>role</th>\n",
       "    </tr>\n",
       "  </thead>\n",
       "  <tbody>\n",
       "    <tr>\n",
       "      <th>0</th>\n",
       "      <td>e28351f5-4ccb-4549-8647-d43f2b15e7b8</td>\n",
       "      <td>pupil</td>\n",
       "    </tr>\n",
       "    <tr>\n",
       "      <th>1</th>\n",
       "      <td>4df2832a-1d63-4453-9659-43993fc35996</td>\n",
       "      <td>tutor</td>\n",
       "    </tr>\n",
       "    <tr>\n",
       "      <th>2</th>\n",
       "      <td>bb1c0bc8-1212-452b-97a0-439d4a2169e2</td>\n",
       "      <td>pupil</td>\n",
       "    </tr>\n",
       "    <tr>\n",
       "      <th>3</th>\n",
       "      <td>63441abe-c4da-4275-ba26-66f7dbd65dde</td>\n",
       "      <td>tutor</td>\n",
       "    </tr>\n",
       "    <tr>\n",
       "      <th>4</th>\n",
       "      <td>a1323b68-c82c-429a-8e2c-65597e648c1a</td>\n",
       "      <td>tutor</td>\n",
       "    </tr>\n",
       "  </tbody>\n",
       "</table>\n",
       "</div>"
      ],
      "text/plain": [
       "                                     id   role\n",
       "0  e28351f5-4ccb-4549-8647-d43f2b15e7b8  pupil\n",
       "1  4df2832a-1d63-4453-9659-43993fc35996  tutor\n",
       "2  bb1c0bc8-1212-452b-97a0-439d4a2169e2  pupil\n",
       "3  63441abe-c4da-4275-ba26-66f7dbd65dde  tutor\n",
       "4  a1323b68-c82c-429a-8e2c-65597e648c1a  tutor"
      ]
     },
     "execution_count": 9,
     "metadata": {},
     "output_type": "execute_result"
    }
   ],
   "source": [
    "users = users.dropna().reset_index(drop=True)\n",
    "users.columns = ['id', 'role']\n",
    "users['role'] = users['role'].str.replace(' ', '')\n",
    "users['id'] = users['id'].str.replace(' ', '')\n",
    "users.head()"
   ]
  },
  {
   "cell_type": "markdown",
   "metadata": {},
   "source": [
    "**Отбор данных согласно условию задачи**"
   ]
  },
  {
   "cell_type": "code",
   "execution_count": 10,
   "metadata": {},
   "outputs": [],
   "source": [
    "lessons_phys = lessons[lessons['subject'] == 'phys'].reset_index(drop=True)"
   ]
  },
  {
   "cell_type": "code",
   "execution_count": 11,
   "metadata": {},
   "outputs": [],
   "source": [
    "lessons_phys['moscow_time'] = lessons_phys['scheduled_time'] + pd.Timedelta(hours=3)\n",
    "lessons_phys['moscow_date'] = lessons_phys['moscow_time'].dt.date"
   ]
  },
  {
   "cell_type": "code",
   "execution_count": 12,
   "metadata": {},
   "outputs": [],
   "source": [
    "lessons_phys.drop('scheduled_time', axis=1, inplace=True)"
   ]
  },
  {
   "cell_type": "code",
   "execution_count": 13,
   "metadata": {},
   "outputs": [
    {
     "data": {
      "text/html": [
       "<div>\n",
       "<style scoped>\n",
       "    .dataframe tbody tr th:only-of-type {\n",
       "        vertical-align: middle;\n",
       "    }\n",
       "\n",
       "    .dataframe tbody tr th {\n",
       "        vertical-align: top;\n",
       "    }\n",
       "\n",
       "    .dataframe thead th {\n",
       "        text-align: right;\n",
       "    }\n",
       "</style>\n",
       "<table border=\"1\" class=\"dataframe\">\n",
       "  <thead>\n",
       "    <tr style=\"text-align: right;\">\n",
       "      <th></th>\n",
       "      <th>lesson_id</th>\n",
       "      <th>event_id</th>\n",
       "      <th>subject</th>\n",
       "      <th>moscow_time</th>\n",
       "      <th>moscow_date</th>\n",
       "    </tr>\n",
       "  </thead>\n",
       "  <tbody>\n",
       "    <tr>\n",
       "      <th>0</th>\n",
       "      <td>1e7bb408-cfef-4a9f-8328-351c9483a64c</td>\n",
       "      <td>38114</td>\n",
       "      <td>phys</td>\n",
       "      <td>2020-01-19 15:00:00</td>\n",
       "      <td>2020-01-19</td>\n",
       "    </tr>\n",
       "    <tr>\n",
       "      <th>1</th>\n",
       "      <td>00fc6685-f53a-49bb-b960-5e0042fd3852</td>\n",
       "      <td>51341</td>\n",
       "      <td>phys</td>\n",
       "      <td>2020-01-17 15:00:00</td>\n",
       "      <td>2020-01-17</td>\n",
       "    </tr>\n",
       "    <tr>\n",
       "      <th>2</th>\n",
       "      <td>4cadf623-82e6-422f-a342-acf978302fb2</td>\n",
       "      <td>55048</td>\n",
       "      <td>phys</td>\n",
       "      <td>2020-01-19 17:00:00</td>\n",
       "      <td>2020-01-19</td>\n",
       "    </tr>\n",
       "    <tr>\n",
       "      <th>3</th>\n",
       "      <td>e597a79a-3f68-4d15-bc77-c7000bcf8e52</td>\n",
       "      <td>53026</td>\n",
       "      <td>phys</td>\n",
       "      <td>2020-01-19 18:00:00</td>\n",
       "      <td>2020-01-19</td>\n",
       "    </tr>\n",
       "    <tr>\n",
       "      <th>4</th>\n",
       "      <td>ea6f0bf3-bcfc-4555-9b16-cc2cfe722e17</td>\n",
       "      <td>51645</td>\n",
       "      <td>phys</td>\n",
       "      <td>2020-01-19 17:00:00</td>\n",
       "      <td>2020-01-19</td>\n",
       "    </tr>\n",
       "  </tbody>\n",
       "</table>\n",
       "</div>"
      ],
      "text/plain": [
       "                              lesson_id  event_id subject         moscow_time  \\\n",
       "0  1e7bb408-cfef-4a9f-8328-351c9483a64c     38114    phys 2020-01-19 15:00:00   \n",
       "1  00fc6685-f53a-49bb-b960-5e0042fd3852     51341    phys 2020-01-17 15:00:00   \n",
       "2  4cadf623-82e6-422f-a342-acf978302fb2     55048    phys 2020-01-19 17:00:00   \n",
       "3  e597a79a-3f68-4d15-bc77-c7000bcf8e52     53026    phys 2020-01-19 18:00:00   \n",
       "4  ea6f0bf3-bcfc-4555-9b16-cc2cfe722e17     51645    phys 2020-01-19 17:00:00   \n",
       "\n",
       "  moscow_date  \n",
       "0  2020-01-19  \n",
       "1  2020-01-17  \n",
       "2  2020-01-19  \n",
       "3  2020-01-19  \n",
       "4  2020-01-19  "
      ]
     },
     "execution_count": 13,
     "metadata": {},
     "output_type": "execute_result"
    }
   ],
   "source": [
    "lessons_phys.head()"
   ]
  },
  {
   "cell_type": "code",
   "execution_count": 14,
   "metadata": {},
   "outputs": [
    {
     "data": {
      "text/plain": [
       "153"
      ]
     },
     "execution_count": 14,
     "metadata": {},
     "output_type": "execute_result"
    }
   ],
   "source": [
    "lessons_phys['event_id'].nunique()"
   ]
  },
  {
   "cell_type": "code",
   "execution_count": 15,
   "metadata": {},
   "outputs": [],
   "source": [
    "quality_phys = quality.merge(lessons_phys[['lesson_id', 'event_id', 'moscow_date']], how='right')"
   ]
  },
  {
   "cell_type": "code",
   "execution_count": 16,
   "metadata": {},
   "outputs": [
    {
     "data": {
      "text/html": [
       "<div>\n",
       "<style scoped>\n",
       "    .dataframe tbody tr th:only-of-type {\n",
       "        vertical-align: middle;\n",
       "    }\n",
       "\n",
       "    .dataframe tbody tr th {\n",
       "        vertical-align: top;\n",
       "    }\n",
       "\n",
       "    .dataframe thead th {\n",
       "        text-align: right;\n",
       "    }\n",
       "</style>\n",
       "<table border=\"1\" class=\"dataframe\">\n",
       "  <thead>\n",
       "    <tr style=\"text-align: right;\">\n",
       "      <th></th>\n",
       "      <th>lesson_id</th>\n",
       "      <th>tech_quality</th>\n",
       "      <th>event_id</th>\n",
       "      <th>moscow_date</th>\n",
       "    </tr>\n",
       "  </thead>\n",
       "  <tbody>\n",
       "    <tr>\n",
       "      <th>0</th>\n",
       "      <td>00fc6685-f53a-49bb-b960-5e0042fd3852</td>\n",
       "      <td>5.0</td>\n",
       "      <td>51341</td>\n",
       "      <td>2020-01-17</td>\n",
       "    </tr>\n",
       "    <tr>\n",
       "      <th>1</th>\n",
       "      <td>00fc6685-f53a-49bb-b960-5e0042fd3852</td>\n",
       "      <td>5.0</td>\n",
       "      <td>51341</td>\n",
       "      <td>2020-01-17</td>\n",
       "    </tr>\n",
       "    <tr>\n",
       "      <th>2</th>\n",
       "      <td>4cadf623-82e6-422f-a342-acf978302fb2</td>\n",
       "      <td>5.0</td>\n",
       "      <td>55048</td>\n",
       "      <td>2020-01-19</td>\n",
       "    </tr>\n",
       "    <tr>\n",
       "      <th>3</th>\n",
       "      <td>e597a79a-3f68-4d15-bc77-c7000bcf8e52</td>\n",
       "      <td>5.0</td>\n",
       "      <td>53026</td>\n",
       "      <td>2020-01-19</td>\n",
       "    </tr>\n",
       "    <tr>\n",
       "      <th>4</th>\n",
       "      <td>ea6f0bf3-bcfc-4555-9b16-cc2cfe722e17</td>\n",
       "      <td>5.0</td>\n",
       "      <td>51645</td>\n",
       "      <td>2020-01-19</td>\n",
       "    </tr>\n",
       "  </tbody>\n",
       "</table>\n",
       "</div>"
      ],
      "text/plain": [
       "                              lesson_id  tech_quality  event_id moscow_date\n",
       "0  00fc6685-f53a-49bb-b960-5e0042fd3852           5.0     51341  2020-01-17\n",
       "1  00fc6685-f53a-49bb-b960-5e0042fd3852           5.0     51341  2020-01-17\n",
       "2  4cadf623-82e6-422f-a342-acf978302fb2           5.0     55048  2020-01-19\n",
       "3  e597a79a-3f68-4d15-bc77-c7000bcf8e52           5.0     53026  2020-01-19\n",
       "4  ea6f0bf3-bcfc-4555-9b16-cc2cfe722e17           5.0     51645  2020-01-19"
      ]
     },
     "execution_count": 16,
     "metadata": {},
     "output_type": "execute_result"
    }
   ],
   "source": [
    "quality_phys.head()"
   ]
  },
  {
   "cell_type": "code",
   "execution_count": 17,
   "metadata": {},
   "outputs": [
    {
     "data": {
      "text/plain": [
       "153"
      ]
     },
     "execution_count": 17,
     "metadata": {},
     "output_type": "execute_result"
    }
   ],
   "source": [
    "#Убедимся, что мы не потеряли ни одного урока\n",
    "quality_phys['event_id'].nunique()"
   ]
  },
  {
   "cell_type": "code",
   "execution_count": 18,
   "metadata": {},
   "outputs": [
    {
     "data": {
      "text/plain": [
       "61"
      ]
     },
     "execution_count": 18,
     "metadata": {},
     "output_type": "execute_result"
    }
   ],
   "source": [
    "#посмотрим, есть ли уроки без оценок и удалим их\n",
    "quality_phys['tech_quality'].isnull().sum()"
   ]
  },
  {
   "cell_type": "code",
   "execution_count": 19,
   "metadata": {},
   "outputs": [],
   "source": [
    "quality_phys.dropna(inplace=True)"
   ]
  },
  {
   "cell_type": "code",
   "execution_count": 20,
   "metadata": {},
   "outputs": [
    {
     "data": {
      "text/plain": [
       "97"
      ]
     },
     "execution_count": 20,
     "metadata": {},
     "output_type": "execute_result"
    }
   ],
   "source": [
    "quality_phys['event_id'].nunique()"
   ]
  },
  {
   "cell_type": "code",
   "execution_count": 21,
   "metadata": {},
   "outputs": [
    {
     "data": {
      "text/plain": [
       "1    4df2832a-1d63-4453-9659-43993fc35996\n",
       "3    63441abe-c4da-4275-ba26-66f7dbd65dde\n",
       "4    a1323b68-c82c-429a-8e2c-65597e648c1a\n",
       "7    30a19496-bdaf-461c-abbc-2709ae520201\n",
       "8    43efce48-94b2-4412-857f-223d45969008\n",
       "Name: id, dtype: object"
      ]
     },
     "execution_count": 21,
     "metadata": {},
     "output_type": "execute_result"
    }
   ],
   "source": [
    "tutors = users[users['role'] == 'tutor']['id']\n",
    "tutors.head()"
   ]
  },
  {
   "cell_type": "code",
   "execution_count": 22,
   "metadata": {},
   "outputs": [],
   "source": [
    "participants_tutors = participants[participants['user_id'].isin(tutors)]"
   ]
  },
  {
   "cell_type": "code",
   "execution_count": 23,
   "metadata": {},
   "outputs": [],
   "source": [
    "#participants_tutors['event_id'] = participants_tutors['event_id'].astype('int')"
   ]
  },
  {
   "cell_type": "code",
   "execution_count": 24,
   "metadata": {},
   "outputs": [
    {
     "data": {
      "text/html": [
       "<div>\n",
       "<style scoped>\n",
       "    .dataframe tbody tr th:only-of-type {\n",
       "        vertical-align: middle;\n",
       "    }\n",
       "\n",
       "    .dataframe tbody tr th {\n",
       "        vertical-align: top;\n",
       "    }\n",
       "\n",
       "    .dataframe thead th {\n",
       "        text-align: right;\n",
       "    }\n",
       "</style>\n",
       "<table border=\"1\" class=\"dataframe\">\n",
       "  <thead>\n",
       "    <tr style=\"text-align: right;\">\n",
       "      <th></th>\n",
       "      <th>lesson_id</th>\n",
       "      <th>tech_quality</th>\n",
       "      <th>event_id</th>\n",
       "      <th>moscow_date</th>\n",
       "      <th>user_id</th>\n",
       "    </tr>\n",
       "  </thead>\n",
       "  <tbody>\n",
       "    <tr>\n",
       "      <th>0</th>\n",
       "      <td>00fc6685-f53a-49bb-b960-5e0042fd3852</td>\n",
       "      <td>5.0</td>\n",
       "      <td>51341</td>\n",
       "      <td>2020-01-17</td>\n",
       "      <td>30a19496-bdaf-461c-abbc-2709ae520201</td>\n",
       "    </tr>\n",
       "    <tr>\n",
       "      <th>1</th>\n",
       "      <td>00fc6685-f53a-49bb-b960-5e0042fd3852</td>\n",
       "      <td>5.0</td>\n",
       "      <td>51341</td>\n",
       "      <td>2020-01-17</td>\n",
       "      <td>30a19496-bdaf-461c-abbc-2709ae520201</td>\n",
       "    </tr>\n",
       "    <tr>\n",
       "      <th>2</th>\n",
       "      <td>4cadf623-82e6-422f-a342-acf978302fb2</td>\n",
       "      <td>5.0</td>\n",
       "      <td>55048</td>\n",
       "      <td>2020-01-19</td>\n",
       "      <td>43efce48-94b2-4412-857f-223d45969008</td>\n",
       "    </tr>\n",
       "    <tr>\n",
       "      <th>3</th>\n",
       "      <td>e597a79a-3f68-4d15-bc77-c7000bcf8e52</td>\n",
       "      <td>5.0</td>\n",
       "      <td>53026</td>\n",
       "      <td>2020-01-19</td>\n",
       "      <td>43efce48-94b2-4412-857f-223d45969008</td>\n",
       "    </tr>\n",
       "    <tr>\n",
       "      <th>4</th>\n",
       "      <td>ea6f0bf3-bcfc-4555-9b16-cc2cfe722e17</td>\n",
       "      <td>5.0</td>\n",
       "      <td>51645</td>\n",
       "      <td>2020-01-19</td>\n",
       "      <td>8fe03f08-8581-430c-a590-9888ab36deb3</td>\n",
       "    </tr>\n",
       "  </tbody>\n",
       "</table>\n",
       "</div>"
      ],
      "text/plain": [
       "                              lesson_id  tech_quality  event_id moscow_date  \\\n",
       "0  00fc6685-f53a-49bb-b960-5e0042fd3852           5.0     51341  2020-01-17   \n",
       "1  00fc6685-f53a-49bb-b960-5e0042fd3852           5.0     51341  2020-01-17   \n",
       "2  4cadf623-82e6-422f-a342-acf978302fb2           5.0     55048  2020-01-19   \n",
       "3  e597a79a-3f68-4d15-bc77-c7000bcf8e52           5.0     53026  2020-01-19   \n",
       "4  ea6f0bf3-bcfc-4555-9b16-cc2cfe722e17           5.0     51645  2020-01-19   \n",
       "\n",
       "                                user_id  \n",
       "0  30a19496-bdaf-461c-abbc-2709ae520201  \n",
       "1  30a19496-bdaf-461c-abbc-2709ae520201  \n",
       "2  43efce48-94b2-4412-857f-223d45969008  \n",
       "3  43efce48-94b2-4412-857f-223d45969008  \n",
       "4  8fe03f08-8581-430c-a590-9888ab36deb3  "
      ]
     },
     "execution_count": 24,
     "metadata": {},
     "output_type": "execute_result"
    }
   ],
   "source": [
    "#добавим учителей к каждому уроку\n",
    "quality_phys = quality_phys.merge(participants_tutors, on='event_id')\n",
    "quality_phys.head()"
   ]
  },
  {
   "cell_type": "code",
   "execution_count": 25,
   "metadata": {},
   "outputs": [
    {
     "data": {
      "text/plain": [
       "97"
      ]
     },
     "execution_count": 25,
     "metadata": {},
     "output_type": "execute_result"
    }
   ],
   "source": [
    "#убедимся, что количество уроков осталось прежним\n",
    "quality_phys['event_id'].nunique()"
   ]
  },
  {
   "cell_type": "code",
   "execution_count": 30,
   "metadata": {},
   "outputs": [],
   "source": [
    "tutors_marks = quality_phys.groupby(['user_id','moscow_date']).agg({'tech_quality':'mean'}).round(2).unstack().reset_index()\n",
    "tutors_marks.columns = ['user_id', '2020-01-11', '2020-01-12', '2020-01-13', '2020-01-14', '2020-01-15', '2020-01-16', \n",
    "                        '2020-01-17', '2020-01-18', '2020-01-19', '2020-01-20']"
   ]
  },
  {
   "cell_type": "code",
   "execution_count": 31,
   "metadata": {},
   "outputs": [
    {
     "data": {
      "text/html": [
       "<div>\n",
       "<style scoped>\n",
       "    .dataframe tbody tr th:only-of-type {\n",
       "        vertical-align: middle;\n",
       "    }\n",
       "\n",
       "    .dataframe tbody tr th {\n",
       "        vertical-align: top;\n",
       "    }\n",
       "\n",
       "    .dataframe thead th {\n",
       "        text-align: right;\n",
       "    }\n",
       "</style>\n",
       "<table border=\"1\" class=\"dataframe\">\n",
       "  <thead>\n",
       "    <tr style=\"text-align: right;\">\n",
       "      <th></th>\n",
       "      <th>user_id</th>\n",
       "      <th>2020-01-11</th>\n",
       "      <th>2020-01-12</th>\n",
       "      <th>2020-01-13</th>\n",
       "      <th>2020-01-14</th>\n",
       "      <th>2020-01-15</th>\n",
       "      <th>2020-01-16</th>\n",
       "      <th>2020-01-17</th>\n",
       "      <th>2020-01-18</th>\n",
       "      <th>2020-01-19</th>\n",
       "      <th>2020-01-20</th>\n",
       "    </tr>\n",
       "  </thead>\n",
       "  <tbody>\n",
       "    <tr>\n",
       "      <th>0</th>\n",
       "      <td>1c39e78f-6ded-4b2e-83d6-036ca34ecfdc</td>\n",
       "      <td>NaN</td>\n",
       "      <td>NaN</td>\n",
       "      <td>NaN</td>\n",
       "      <td>NaN</td>\n",
       "      <td>NaN</td>\n",
       "      <td>NaN</td>\n",
       "      <td>NaN</td>\n",
       "      <td>5.00</td>\n",
       "      <td>NaN</td>\n",
       "      <td>NaN</td>\n",
       "    </tr>\n",
       "    <tr>\n",
       "      <th>1</th>\n",
       "      <td>2fa2ab62-f1b0-4036-872f-bcfd9a8686ff</td>\n",
       "      <td>5.00</td>\n",
       "      <td>5.00</td>\n",
       "      <td>5.0</td>\n",
       "      <td>5.0</td>\n",
       "      <td>NaN</td>\n",
       "      <td>4.0</td>\n",
       "      <td>NaN</td>\n",
       "      <td>5.00</td>\n",
       "      <td>NaN</td>\n",
       "      <td>5.00</td>\n",
       "    </tr>\n",
       "    <tr>\n",
       "      <th>2</th>\n",
       "      <td>30a19496-bdaf-461c-abbc-2709ae520201</td>\n",
       "      <td>5.00</td>\n",
       "      <td>NaN</td>\n",
       "      <td>5.0</td>\n",
       "      <td>NaN</td>\n",
       "      <td>NaN</td>\n",
       "      <td>5.0</td>\n",
       "      <td>5.00</td>\n",
       "      <td>5.00</td>\n",
       "      <td>NaN</td>\n",
       "      <td>4.67</td>\n",
       "    </tr>\n",
       "    <tr>\n",
       "      <th>3</th>\n",
       "      <td>43efce48-94b2-4412-857f-223d45969008</td>\n",
       "      <td>5.00</td>\n",
       "      <td>5.00</td>\n",
       "      <td>NaN</td>\n",
       "      <td>5.0</td>\n",
       "      <td>NaN</td>\n",
       "      <td>5.0</td>\n",
       "      <td>4.67</td>\n",
       "      <td>4.57</td>\n",
       "      <td>4.90</td>\n",
       "      <td>4.50</td>\n",
       "    </tr>\n",
       "    <tr>\n",
       "      <th>4</th>\n",
       "      <td>4df2832a-1d63-4453-9659-43993fc35996</td>\n",
       "      <td>NaN</td>\n",
       "      <td>5.00</td>\n",
       "      <td>NaN</td>\n",
       "      <td>5.0</td>\n",
       "      <td>NaN</td>\n",
       "      <td>5.0</td>\n",
       "      <td>5.00</td>\n",
       "      <td>5.00</td>\n",
       "      <td>5.00</td>\n",
       "      <td>NaN</td>\n",
       "    </tr>\n",
       "    <tr>\n",
       "      <th>5</th>\n",
       "      <td>603b8641-c6f6-4d89-ac89-88e50d45aa0d</td>\n",
       "      <td>4.88</td>\n",
       "      <td>NaN</td>\n",
       "      <td>NaN</td>\n",
       "      <td>NaN</td>\n",
       "      <td>5.0</td>\n",
       "      <td>NaN</td>\n",
       "      <td>NaN</td>\n",
       "      <td>4.60</td>\n",
       "      <td>NaN</td>\n",
       "      <td>NaN</td>\n",
       "    </tr>\n",
       "    <tr>\n",
       "      <th>6</th>\n",
       "      <td>696c838e-c054-4e9f-a51a-50bf5660f364</td>\n",
       "      <td>NaN</td>\n",
       "      <td>4.93</td>\n",
       "      <td>5.0</td>\n",
       "      <td>5.0</td>\n",
       "      <td>5.0</td>\n",
       "      <td>5.0</td>\n",
       "      <td>4.50</td>\n",
       "      <td>NaN</td>\n",
       "      <td>4.83</td>\n",
       "      <td>5.00</td>\n",
       "    </tr>\n",
       "    <tr>\n",
       "      <th>7</th>\n",
       "      <td>8fe03f08-8581-430c-a590-9888ab36deb3</td>\n",
       "      <td>4.33</td>\n",
       "      <td>5.00</td>\n",
       "      <td>NaN</td>\n",
       "      <td>NaN</td>\n",
       "      <td>NaN</td>\n",
       "      <td>NaN</td>\n",
       "      <td>NaN</td>\n",
       "      <td>5.00</td>\n",
       "      <td>5.00</td>\n",
       "      <td>NaN</td>\n",
       "    </tr>\n",
       "    <tr>\n",
       "      <th>8</th>\n",
       "      <td>9b26952c-3470-4032-a9cd-f1e9d4f90ece</td>\n",
       "      <td>NaN</td>\n",
       "      <td>NaN</td>\n",
       "      <td>NaN</td>\n",
       "      <td>5.0</td>\n",
       "      <td>5.0</td>\n",
       "      <td>NaN</td>\n",
       "      <td>5.00</td>\n",
       "      <td>5.00</td>\n",
       "      <td>NaN</td>\n",
       "      <td>NaN</td>\n",
       "    </tr>\n",
       "    <tr>\n",
       "      <th>9</th>\n",
       "      <td>b37ccae8-fc31-4ad8-8f55-ca855b23fbf6</td>\n",
       "      <td>5.00</td>\n",
       "      <td>5.00</td>\n",
       "      <td>5.0</td>\n",
       "      <td>5.0</td>\n",
       "      <td>5.0</td>\n",
       "      <td>5.0</td>\n",
       "      <td>5.00</td>\n",
       "      <td>5.00</td>\n",
       "      <td>NaN</td>\n",
       "      <td>5.00</td>\n",
       "    </tr>\n",
       "    <tr>\n",
       "      <th>10</th>\n",
       "      <td>be676776-8366-4c71-8a35-d58014806eb5</td>\n",
       "      <td>NaN</td>\n",
       "      <td>NaN</td>\n",
       "      <td>5.0</td>\n",
       "      <td>NaN</td>\n",
       "      <td>NaN</td>\n",
       "      <td>NaN</td>\n",
       "      <td>NaN</td>\n",
       "      <td>NaN</td>\n",
       "      <td>4.50</td>\n",
       "      <td>5.00</td>\n",
       "    </tr>\n",
       "    <tr>\n",
       "      <th>11</th>\n",
       "      <td>c0c073c8-cb9c-4ebc-ac13-472c06029591</td>\n",
       "      <td>5.00</td>\n",
       "      <td>NaN</td>\n",
       "      <td>NaN</td>\n",
       "      <td>NaN</td>\n",
       "      <td>NaN</td>\n",
       "      <td>NaN</td>\n",
       "      <td>NaN</td>\n",
       "      <td>5.00</td>\n",
       "      <td>NaN</td>\n",
       "      <td>NaN</td>\n",
       "    </tr>\n",
       "    <tr>\n",
       "      <th>12</th>\n",
       "      <td>c31d06f1-b667-489f-af70-d2c88402826c</td>\n",
       "      <td>NaN</td>\n",
       "      <td>NaN</td>\n",
       "      <td>NaN</td>\n",
       "      <td>5.0</td>\n",
       "      <td>NaN</td>\n",
       "      <td>NaN</td>\n",
       "      <td>NaN</td>\n",
       "      <td>NaN</td>\n",
       "      <td>NaN</td>\n",
       "      <td>NaN</td>\n",
       "    </tr>\n",
       "    <tr>\n",
       "      <th>13</th>\n",
       "      <td>c6718d0e-976c-4d6c-b0e0-32c770776567</td>\n",
       "      <td>NaN</td>\n",
       "      <td>NaN</td>\n",
       "      <td>NaN</td>\n",
       "      <td>4.0</td>\n",
       "      <td>NaN</td>\n",
       "      <td>NaN</td>\n",
       "      <td>NaN</td>\n",
       "      <td>NaN</td>\n",
       "      <td>NaN</td>\n",
       "      <td>NaN</td>\n",
       "    </tr>\n",
       "    <tr>\n",
       "      <th>14</th>\n",
       "      <td>eb47bfc8-ff11-42cd-a48b-1c88aca067f7</td>\n",
       "      <td>NaN</td>\n",
       "      <td>NaN</td>\n",
       "      <td>NaN</td>\n",
       "      <td>NaN</td>\n",
       "      <td>NaN</td>\n",
       "      <td>NaN</td>\n",
       "      <td>5.00</td>\n",
       "      <td>NaN</td>\n",
       "      <td>NaN</td>\n",
       "      <td>NaN</td>\n",
       "    </tr>\n",
       "  </tbody>\n",
       "</table>\n",
       "</div>"
      ],
      "text/plain": [
       "                                 user_id  2020-01-11  2020-01-12  2020-01-13  \\\n",
       "0   1c39e78f-6ded-4b2e-83d6-036ca34ecfdc         NaN         NaN         NaN   \n",
       "1   2fa2ab62-f1b0-4036-872f-bcfd9a8686ff        5.00        5.00         5.0   \n",
       "2   30a19496-bdaf-461c-abbc-2709ae520201        5.00         NaN         5.0   \n",
       "3   43efce48-94b2-4412-857f-223d45969008        5.00        5.00         NaN   \n",
       "4   4df2832a-1d63-4453-9659-43993fc35996         NaN        5.00         NaN   \n",
       "5   603b8641-c6f6-4d89-ac89-88e50d45aa0d        4.88         NaN         NaN   \n",
       "6   696c838e-c054-4e9f-a51a-50bf5660f364         NaN        4.93         5.0   \n",
       "7   8fe03f08-8581-430c-a590-9888ab36deb3        4.33        5.00         NaN   \n",
       "8   9b26952c-3470-4032-a9cd-f1e9d4f90ece         NaN         NaN         NaN   \n",
       "9   b37ccae8-fc31-4ad8-8f55-ca855b23fbf6        5.00        5.00         5.0   \n",
       "10  be676776-8366-4c71-8a35-d58014806eb5         NaN         NaN         5.0   \n",
       "11  c0c073c8-cb9c-4ebc-ac13-472c06029591        5.00         NaN         NaN   \n",
       "12  c31d06f1-b667-489f-af70-d2c88402826c         NaN         NaN         NaN   \n",
       "13  c6718d0e-976c-4d6c-b0e0-32c770776567         NaN         NaN         NaN   \n",
       "14  eb47bfc8-ff11-42cd-a48b-1c88aca067f7         NaN         NaN         NaN   \n",
       "\n",
       "    2020-01-14  2020-01-15  2020-01-16  2020-01-17  2020-01-18  2020-01-19  \\\n",
       "0          NaN         NaN         NaN         NaN        5.00         NaN   \n",
       "1          5.0         NaN         4.0         NaN        5.00         NaN   \n",
       "2          NaN         NaN         5.0        5.00        5.00         NaN   \n",
       "3          5.0         NaN         5.0        4.67        4.57        4.90   \n",
       "4          5.0         NaN         5.0        5.00        5.00        5.00   \n",
       "5          NaN         5.0         NaN         NaN        4.60         NaN   \n",
       "6          5.0         5.0         5.0        4.50         NaN        4.83   \n",
       "7          NaN         NaN         NaN         NaN        5.00        5.00   \n",
       "8          5.0         5.0         NaN        5.00        5.00         NaN   \n",
       "9          5.0         5.0         5.0        5.00        5.00         NaN   \n",
       "10         NaN         NaN         NaN         NaN         NaN        4.50   \n",
       "11         NaN         NaN         NaN         NaN        5.00         NaN   \n",
       "12         5.0         NaN         NaN         NaN         NaN         NaN   \n",
       "13         4.0         NaN         NaN         NaN         NaN         NaN   \n",
       "14         NaN         NaN         NaN        5.00         NaN         NaN   \n",
       "\n",
       "    2020-01-20  \n",
       "0          NaN  \n",
       "1         5.00  \n",
       "2         4.67  \n",
       "3         4.50  \n",
       "4          NaN  \n",
       "5          NaN  \n",
       "6         5.00  \n",
       "7          NaN  \n",
       "8          NaN  \n",
       "9         5.00  \n",
       "10        5.00  \n",
       "11         NaN  \n",
       "12         NaN  \n",
       "13         NaN  \n",
       "14         NaN  "
      ]
     },
     "execution_count": 31,
     "metadata": {},
     "output_type": "execute_result"
    }
   ],
   "source": [
    "tutors_marks"
   ]
  },
  {
   "cell_type": "code",
   "execution_count": 65,
   "metadata": {},
   "outputs": [
    {
     "name": "stdout",
     "output_type": "stream",
     "text": [
      "2020-01-11 : 8fe03f08-8581-430c-a590-9888ab36deb3 : 4.33\n",
      "2020-01-12 : 696c838e-c054-4e9f-a51a-50bf5660f364 : 4.93\n",
      "2020-01-13 : 2fa2ab62-f1b0-4036-872f-bcfd9a8686ff : 5.0\n",
      "2020-01-14 : c6718d0e-976c-4d6c-b0e0-32c770776567 : 4.0\n",
      "2020-01-15 : 603b8641-c6f6-4d89-ac89-88e50d45aa0d : 5.0\n",
      "2020-01-16 : 2fa2ab62-f1b0-4036-872f-bcfd9a8686ff : 4.0\n",
      "2020-01-17 : 696c838e-c054-4e9f-a51a-50bf5660f364 : 4.5\n",
      "2020-01-18 : 43efce48-94b2-4412-857f-223d45969008 : 4.57\n",
      "2020-01-19 : be676776-8366-4c71-8a35-d58014806eb5 : 4.5\n",
      "2020-01-20 : 43efce48-94b2-4412-857f-223d45969008 : 4.5\n"
     ]
    }
   ],
   "source": [
    "for column in ['2020-01-11', '2020-01-12', '2020-01-13', '2020-01-14', '2020-01-15', '2020-01-16', \n",
    "                        '2020-01-17', '2020-01-18', '2020-01-19', '2020-01-20']:\n",
    "    min_mark = tutors_marks[column].min()\n",
    "    min_mark_user = tutors_marks[tutors_marks[column] == min_mark]['user_id'].min()\n",
    "    print(column,':', min_mark_user, ':', min_mark)"
   ]
  }
 ],
 "metadata": {
  "kernelspec": {
   "display_name": "Python 3",
   "language": "python",
   "name": "python3"
  },
  "language_info": {
   "codemirror_mode": {
    "name": "ipython",
    "version": 3
   },
   "file_extension": ".py",
   "mimetype": "text/x-python",
   "name": "python",
   "nbconvert_exporter": "python",
   "pygments_lexer": "ipython3",
   "version": "3.7.3"
  }
 },
 "nbformat": 4,
 "nbformat_minor": 2
}
