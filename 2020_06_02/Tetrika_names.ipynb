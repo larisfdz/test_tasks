{
 "cells": [
  {
   "cell_type": "code",
   "execution_count": 33,
   "metadata": {},
   "outputs": [],
   "source": [
    "# Читаем файл\n",
    "with open('names.txt') as inf:\n",
    "    line = inf.readline().strip('')"
   ]
  },
  {
   "cell_type": "code",
   "execution_count": 34,
   "metadata": {},
   "outputs": [],
   "source": [
    "# сохраняем слова файла в список\n",
    "a = [i.replace('\"', '') for i in line.split(',')]"
   ]
  },
  {
   "cell_type": "code",
   "execution_count": 35,
   "metadata": {},
   "outputs": [],
   "source": [
    "# сортируем список\n",
    "a.sort()"
   ]
  },
  {
   "cell_type": "code",
   "execution_count": 38,
   "metadata": {},
   "outputs": [],
   "source": [
    "# создаем словарь, где каждой букве соответствует число - ее порядковый номер\n",
    "alphabet = [chr(i) for i in range(ord('A'), ord('Z')+1)]\n",
    "alphabet_dict = dict()\n",
    "for i in alphabet:\n",
    "    alphabet_dict[i] = alphabet.index(i)+1"
   ]
  },
  {
   "cell_type": "code",
   "execution_count": 29,
   "metadata": {},
   "outputs": [],
   "source": [
    "# создадим функцию для подсчета суммы букв слова\n",
    "def counting(name):\n",
    "    summa = 0\n",
    "    for j in name:\n",
    "        summa += alphabet_dict[j]\n",
    "    return(summa)"
   ]
  },
  {
   "cell_type": "code",
   "execution_count": 46,
   "metadata": {},
   "outputs": [],
   "source": [
    "name_sum = []"
   ]
  },
  {
   "cell_type": "code",
   "execution_count": 47,
   "metadata": {},
   "outputs": [],
   "source": [
    "for i in a:\n",
    "    name_sum.append(counting(i))"
   ]
  },
  {
   "cell_type": "code",
   "execution_count": 50,
   "metadata": {},
   "outputs": [
    {
     "data": {
      "text/plain": [
       "871853874"
      ]
     },
     "execution_count": 50,
     "metadata": {},
     "output_type": "execute_result"
    }
   ],
   "source": [
    "total_sum = 0 #переменная для подсчета общей суммы\n",
    "for summa in range(len(name_sum)):\n",
    "    multipl = (summa+1) * name_sum[summa]\n",
    "    total_sum += multipl"
   ]
  },
  {
   "cell_type": "code",
   "execution_count": 51,
   "metadata": {},
   "outputs": [
    {
     "name": "stdout",
     "output_type": "stream",
     "text": [
      "Сумма произведений имен на их порядковый номер: 871853874\n"
     ]
    }
   ],
   "source": [
    "print('Сумма произведений имен на их порядковый номер:', total_sum)"
   ]
  }
 ],
 "metadata": {
  "kernelspec": {
   "display_name": "Python 3",
   "language": "python",
   "name": "python3"
  },
  "language_info": {
   "codemirror_mode": {
    "name": "ipython",
    "version": 3
   },
   "file_extension": ".py",
   "mimetype": "text/x-python",
   "name": "python",
   "nbconvert_exporter": "python",
   "pygments_lexer": "ipython3",
   "version": "3.7.3"
  }
 },
 "nbformat": 4,
 "nbformat_minor": 2
}
