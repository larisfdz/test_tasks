{
 "cells": [
  {
   "cell_type": "code",
   "execution_count": 1,
   "metadata": {},
   "outputs": [],
   "source": [
    "import pandas as pd"
   ]
  },
  {
   "cell_type": "code",
   "execution_count": 6,
   "metadata": {},
   "outputs": [],
   "source": [
    "data = pd.read_csv('hits.txt', sep='\\t', header=None)"
   ]
  },
  {
   "cell_type": "code",
   "execution_count": 10,
   "metadata": {},
   "outputs": [],
   "source": [
    "data.columns = ['host', 'ip', 'page']"
   ]
  },
  {
   "cell_type": "code",
   "execution_count": 13,
   "metadata": {},
   "outputs": [
    {
     "name": "stdout",
     "output_type": "stream",
     "text": [
      "<class 'pandas.core.frame.DataFrame'>\n",
      "RangeIndex: 1247036 entries, 0 to 1247035\n",
      "Data columns (total 3 columns):\n",
      "host    1247036 non-null object\n",
      "ip      1247036 non-null object\n",
      "page    1247036 non-null object\n",
      "dtypes: object(3)\n",
      "memory usage: 28.5+ MB\n"
     ]
    }
   ],
   "source": [
    "data.info()"
   ]
  },
  {
   "cell_type": "code",
   "execution_count": 14,
   "metadata": {},
   "outputs": [
    {
     "data": {
      "text/html": [
       "<div>\n",
       "<style scoped>\n",
       "    .dataframe tbody tr th:only-of-type {\n",
       "        vertical-align: middle;\n",
       "    }\n",
       "\n",
       "    .dataframe tbody tr th {\n",
       "        vertical-align: top;\n",
       "    }\n",
       "\n",
       "    .dataframe thead th {\n",
       "        text-align: right;\n",
       "    }\n",
       "</style>\n",
       "<table border=\"1\" class=\"dataframe\">\n",
       "  <thead>\n",
       "    <tr style=\"text-align: right;\">\n",
       "      <th></th>\n",
       "      <th>host</th>\n",
       "      <th>ip</th>\n",
       "      <th>page</th>\n",
       "    </tr>\n",
       "  </thead>\n",
       "  <tbody>\n",
       "    <tr>\n",
       "      <th>0</th>\n",
       "      <td>https://wikipedia.org</td>\n",
       "      <td>72.110.191.15</td>\n",
       "      <td>/friends/files</td>\n",
       "    </tr>\n",
       "    <tr>\n",
       "      <th>1</th>\n",
       "      <td>rambler.ru</td>\n",
       "      <td>142.93.168.247</td>\n",
       "      <td>/universe.php</td>\n",
       "    </tr>\n",
       "    <tr>\n",
       "      <th>2</th>\n",
       "      <td>ftp://info.itar-tass.com</td>\n",
       "      <td>90.68.118.69</td>\n",
       "      <td>/login/monitors/static/me</td>\n",
       "    </tr>\n",
       "    <tr>\n",
       "      <th>3</th>\n",
       "      <td>http://altavista.com</td>\n",
       "      <td>18.79.197.236</td>\n",
       "      <td>/friends/tasks/universe</td>\n",
       "    </tr>\n",
       "    <tr>\n",
       "      <th>4</th>\n",
       "      <td>ftp://tetrika-school.ru</td>\n",
       "      <td>115.26.250.226</td>\n",
       "      <td>/translate/anekdots/my-files/monday</td>\n",
       "    </tr>\n",
       "  </tbody>\n",
       "</table>\n",
       "</div>"
      ],
      "text/plain": [
       "                       host              ip  \\\n",
       "0     https://wikipedia.org   72.110.191.15   \n",
       "1                rambler.ru  142.93.168.247   \n",
       "2  ftp://info.itar-tass.com    90.68.118.69   \n",
       "3      http://altavista.com   18.79.197.236   \n",
       "4   ftp://tetrika-school.ru  115.26.250.226   \n",
       "\n",
       "                                  page  \n",
       "0                       /friends/files  \n",
       "1                        /universe.php  \n",
       "2            /login/monitors/static/me  \n",
       "3              /friends/tasks/universe  \n",
       "4  /translate/anekdots/my-files/monday  "
      ]
     },
     "execution_count": 14,
     "metadata": {},
     "output_type": "execute_result"
    }
   ],
   "source": [
    "data.head()"
   ]
  },
  {
   "cell_type": "code",
   "execution_count": 17,
   "metadata": {},
   "outputs": [
    {
     "data": {
      "text/plain": [
       "154.157.157.156    1531\n",
       "82.146.232.163     1505\n",
       "226.247.119.128    1494\n",
       "194.78.107.33      1494\n",
       "21.143.243.182     1479\n",
       "Name: ip, dtype: int64"
      ]
     },
     "execution_count": 17,
     "metadata": {},
     "output_type": "execute_result"
    }
   ],
   "source": [
    "#выведем уникальные значения столбца 'ip' и их количество, выведем пять, встречающихся наиболее часто\n",
    "data['ip'].value_counts().head(5)"
   ]
  }
 ],
 "metadata": {
  "kernelspec": {
   "display_name": "Python 3",
   "language": "python",
   "name": "python3"
  },
  "language_info": {
   "codemirror_mode": {
    "name": "ipython",
    "version": 3
   },
   "file_extension": ".py",
   "mimetype": "text/x-python",
   "name": "python",
   "nbconvert_exporter": "python",
   "pygments_lexer": "ipython3",
   "version": "3.7.3"
  }
 },
 "nbformat": 4,
 "nbformat_minor": 2
}
